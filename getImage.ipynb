{
 "cells": [
  {
   "cell_type": "code",
   "execution_count": 10,
   "metadata": {
    "collapsed": true
   },
   "outputs": [],
   "source": [
    "import cv2"
   ]
  },
  {
   "cell_type": "code",
   "execution_count": 15,
   "metadata": {
    "collapsed": true
   },
   "outputs": [],
   "source": []
  },
  {
   "cell_type": "code",
   "execution_count": 51,
   "metadata": {},
   "outputs": [],
   "source": [
    "import cv2\n",
    "def findContours(inputPath, inputPath1, outputPath):\n",
    "    removeColor = cv2.imread(inputPath)\n",
    "    removeColor1 = cv2.imread(inputPath1)\n",
    "    height ,width,_ = removeColor.shape\n",
    "    #规整所有杆的颜色为128,0,128\n",
    "    for i in range(height):\n",
    "        for j in range(width):\n",
    "            if(removeColor1[i, j,0] != 0 or removeColor1[i, j,1] != 64 or removeColor1[i, j,2] != 128):\n",
    "                    removeColor[i, j,0] = 128\n",
    "                    removeColor[i, j,1] = 128\n",
    "                    removeColor[i, j,2] = 192\n",
    "    cv2.imwrite(outputPath, removeColor)\n"
   ]
  },
  {
   "cell_type": "code",
   "execution_count": 52,
   "metadata": {},
   "outputs": [],
   "source": [
    "findContours(pathInput, pathInput1, pathOutput)"
   ]
  },
  {
   "cell_type": "code",
   "execution_count": null,
   "metadata": {
    "collapsed": true
   },
   "outputs": [],
   "source": []
  }
 ],
 "metadata": {
  "kernelspec": {
   "display_name": "Python 3",
   "language": "python",
   "name": "python3"
  },
  "language_info": {
   "codemirror_mode": {
    "name": "ipython",
    "version": 3
   },
   "file_extension": ".py",
   "mimetype": "text/x-python",
   "name": "python",
   "nbconvert_exporter": "python",
   "pygments_lexer": "ipython3",
   "version": "3.6.1"
  }
 },
 "nbformat": 4,
 "nbformat_minor": 2
}
